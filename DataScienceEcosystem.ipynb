{
 "cells": [
  {
   "cell_type": "markdown",
   "id": "6161bac0-b9e2-4463-ba7e-bdedd50eb84f",
   "metadata": {},
   "source": [
    "# Science Tools and Ecosystem"
   ]
  },
  {
   "cell_type": "markdown",
   "id": "da3d3e0f-9e89-4a65-bf41-ddaeae346c2a",
   "metadata": {},
   "source": [
    "## In this notebook, Data Science Tools and Ecosystems are summarized."
   ]
  },
  {
   "cell_type": "markdown",
   "id": "df6314f7-024c-4014-b6ac-abb1eb9c316c",
   "metadata": {},
   "source": [
    " __Objectives__\n",
    " - List popular languages of Data Science\n",
    " - List popular tools of Data Science.\n",
    " - Demonstrate arithmetic expressions in Python."
   ]
  },
  {
   "cell_type": "markdown",
   "id": "f82db689-8b40-4550-9b40-0646913c7a89",
   "metadata": {
    "tags": []
   },
   "source": [
    "## Author\n",
    "Andrei B"
   ]
  },
  {
   "cell_type": "markdown",
   "id": "33dafe9a-5791-4e48-8f27-9e1285c4505c",
   "metadata": {},
   "source": [
    "### Some of the popular languages that Data Scientists use are:\n",
    "1. Python\n",
    "2. R\n",
    "3. Scala"
   ]
  },
  {
   "cell_type": "markdown",
   "id": "95acd04f-e127-4693-906d-cc97d7ed398a",
   "metadata": {
    "tags": []
   },
   "source": [
    "### Some of commonly used libraries used by Data Scientists include:\n",
    "1. Pandas\n",
    "2. NumPy\n",
    "3. Matplotlib"
   ]
  },
  {
   "cell_type": "code",
   "execution_count": 11,
   "id": "b374f709-4587-4609-99e2-085db5f602a9",
   "metadata": {
    "jupyter": {
     "source_hidden": true
    },
    "tags": []
   },
   "outputs": [
    {
     "data": {
      "text/html": [
       "<style>\n",
       "table {float:left}\n",
       "</style>\n"
      ],
      "text/plain": [
       "<IPython.core.display.HTML object>"
      ]
     },
     "metadata": {},
     "output_type": "display_data"
    }
   ],
   "source": [
    "%%html\n",
    "<style>\n",
    "table {float:left}\n",
    "</style>"
   ]
  },
  {
   "cell_type": "markdown",
   "id": "72632f5f-3582-4909-9d06-dd37e7091b57",
   "metadata": {},
   "source": [
    "| Data Science Tools |\n",
    "| --- |\n",
    "|Jupyter|\n",
    "|RStudio|\n",
    "|Google colab|\n"
   ]
  },
  {
   "cell_type": "markdown",
   "id": "6924434b-5345-4e0f-aa3d-ead58717f2d3",
   "metadata": {},
   "source": [
    "### Below are a few examples of evaluating arithmetic expressions in Python."
   ]
  },
  {
   "cell_type": "code",
   "execution_count": 12,
   "id": "cf4e039c-9674-4c4e-b09b-0a2bcacd2c94",
   "metadata": {
    "tags": []
   },
   "outputs": [
    {
     "data": {
      "text/plain": [
       "17"
      ]
     },
     "execution_count": 12,
     "metadata": {},
     "output_type": "execute_result"
    }
   ],
   "source": [
    "# This a simple arithmetic expression to mltiply then add integers.\n",
    "(3*4)+5"
   ]
  },
  {
   "cell_type": "code",
   "execution_count": 15,
   "id": "9a16c71b-8059-45d9-9110-da7ff1428aae",
   "metadata": {
    "tags": []
   },
   "outputs": [
    {
     "name": "stdout",
     "output_type": "stream",
     "text": [
      "it's 3.33 in 200 min\n"
     ]
    }
   ],
   "source": [
    "# This will convert 200 minutes to hours by dividing by 60\n",
    "\n",
    "min_to_hour = 200/60\n",
    "print(f\"it's {min_to_hour:.2f} hours in 200 min\")"
   ]
  },
  {
   "cell_type": "code",
   "execution_count": null,
   "id": "4ecfc53a-4fa4-4739-932b-ad4dad616509",
   "metadata": {},
   "outputs": [],
   "source": []
  }
 ],
 "metadata": {
  "kernelspec": {
   "display_name": "Python",
   "language": "python",
   "name": "conda-env-python-py"
  },
  "language_info": {
   "codemirror_mode": {
    "name": "ipython",
    "version": 3
   },
   "file_extension": ".py",
   "mimetype": "text/x-python",
   "name": "python",
   "nbconvert_exporter": "python",
   "pygments_lexer": "ipython3",
   "version": "3.7.12"
  }
 },
 "nbformat": 4,
 "nbformat_minor": 5
}
